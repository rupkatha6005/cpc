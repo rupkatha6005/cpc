{
 "cells": [
  {
   "cell_type": "code",
   "execution_count": 22,
   "id": "dad77838",
   "metadata": {},
   "outputs": [
    {
     "name": "stdout",
     "output_type": "stream",
     "text": [
      "Your new password: R4imSpsC\n"
     ]
    }
   ],
   "source": [
    "#creating passwords:\n",
    "import random\n",
    "chars=['0', '1', '2', '3', '4', '5', '6', '7', '8', '9', 'a', 'b', 'c', 'd', 'e', 'f', 'g', 'h', 'i', 'j', 'k', 'l', 'm', 'n', 'o', 'p', 'q', 'r', 's', 't', 'u', 'v', 'w', 'x', 'y', 'z', 'A', 'B', 'C', 'D', 'E', 'F', 'G', 'H', 'I', 'J', 'K', 'L', 'M', 'N', 'O', 'P', 'Q', 'R', 'S', 'T', 'U', 'V', 'W', 'X', 'Y', 'Z']\n",
    "password=''\n",
    "for i in range(8):\n",
    "    password+=random.choices(chars)[0]\n",
    "print(\"Your new password:\",password)\n"
   ]
  },
  {
   "cell_type": "code",
   "execution_count": 11,
   "id": "d5ecba06",
   "metadata": {},
   "outputs": [
    {
     "name": "stdout",
     "output_type": "stream",
     "text": [
      "200,000,000\n"
     ]
    }
   ],
   "source": [
    "##formatting numbers:\n",
    "n=200000000\n",
    "lst=[]\n",
    "c=0\n",
    "for i in range(len(str(n))-1,-1,-1):\n",
    "    lst.append(str(n)[i])\n",
    "    c+=1\n",
    "    if c==3:\n",
    "        lst.append(',')\n",
    "        c=0\n",
    "x=''\n",
    "for i in lst:\n",
    "    x=i+x\n",
    "if x[0]==',':\n",
    "    x=x[1:len(x)]\n",
    "print(x)"
   ]
  },
  {
   "cell_type": "code",
   "execution_count": 3,
   "id": "613b5dba",
   "metadata": {},
   "outputs": [
    {
     "name": "stdout",
     "output_type": "stream",
     "text": [
      "6\n",
      "     *\n",
      "    * *\n",
      "   * * *\n",
      "  * * * *\n",
      " * * * * *\n",
      "* * * * * *\n"
     ]
    }
   ],
   "source": [
    "#pyramid 01:\n",
    "n=int(input())\n",
    "for i in range(n):\n",
    "    for j in range(n-1-i):\n",
    "        print(' ',end='')\n",
    "    for k in range(i+1):\n",
    "        print('*',end='')\n",
    "        if k<i:\n",
    "            print(' ',end='')\n",
    "    print()"
   ]
  },
  {
   "cell_type": "code",
   "execution_count": 4,
   "id": "a780b5d2",
   "metadata": {},
   "outputs": [
    {
     "name": "stdout",
     "output_type": "stream",
     "text": [
      "    *\n",
      "   ***\n",
      "  *****\n",
      " *******\n",
      "*********\n"
     ]
    }
   ],
   "source": [
    "#pyramid 02:\n",
    "n=5\n",
    "for i in range(1,n+1):\n",
    "    for j in range(n-i):\n",
    "        print(' ',end='')\n",
    "    for k in range(i-1):\n",
    "        print('*',end='')\n",
    "    for l in range(i):\n",
    "        print('*',end='')\n",
    "    print()"
   ]
  },
  {
   "cell_type": "code",
   "execution_count": 10,
   "id": "37ba674c",
   "metadata": {},
   "outputs": [
    {
     "name": "stdout",
     "output_type": "stream",
     "text": [
      "*\n",
      "**\n",
      "***\n",
      "****\n",
      "*****\n",
      "******\n",
      "*******\n",
      "********\n",
      "1\n",
      "22\n",
      "333\n",
      "4444\n",
      "55555\n",
      "666666\n",
      "7777777\n",
      "88888888\n",
      "       *\n",
      "      **\n",
      "     ***\n",
      "    ****\n",
      "   *****\n",
      "  ******\n",
      " *******\n",
      "********\n"
     ]
    }
   ],
   "source": [
    "#half pyramid:\n",
    "n=8\n",
    "for i in range(n):\n",
    "    for j in range(i+1):\n",
    "        print('*',end='')\n",
    "    print()\n",
    "#with numbers:\n",
    "for i in range(1,n+1):\n",
    "    print((10**i//9)*i)\n",
    "    \n",
    "#reverse half:\n",
    "for i in range(1,n+1):\n",
    "    for j in range(n-i):\n",
    "        print(' ',end='')\n",
    "    for k in range(i):\n",
    "        print('*',end='')\n",
    "    print()\n"
   ]
  },
  {
   "cell_type": "code",
   "execution_count": null,
   "id": "29da4683",
   "metadata": {},
   "outputs": [],
   "source": []
  }
 ],
 "metadata": {
  "kernelspec": {
   "display_name": "Python 3",
   "language": "python",
   "name": "python3"
  },
  "language_info": {
   "codemirror_mode": {
    "name": "ipython",
    "version": 3
   },
   "file_extension": ".py",
   "mimetype": "text/x-python",
   "name": "python",
   "nbconvert_exporter": "python",
   "pygments_lexer": "ipython3",
   "version": "3.8.8"
  }
 },
 "nbformat": 4,
 "nbformat_minor": 5
}
